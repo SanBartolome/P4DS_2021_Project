{
  "cells": [
    {
      "cell_type": "code",
      "execution_count": null,
      "metadata": {
        "colab": {
          "base_uri": "https://localhost:8080/"
        },
        "id": "Wqnz76Bq2Ets",
        "outputId": "f823308e-31dc-492e-b552-1b457640d9d2"
      },
      "outputs": [],
      "source": [
        "# para extraer mfcc (características del audio)\n",
        "!pip install python_speech_features"
      ]
    },
    {
      "cell_type": "code",
      "execution_count": null,
      "metadata": {
        "colab": {
          "base_uri": "https://localhost:8080/"
        },
        "id": "y_gKREcn2VD4",
        "outputId": "44b7f9ac-c0b8-43fb-9896-318bb36bab16"
      },
      "outputs": [],
      "source": [
        "# para transformar de mp3 a wav\n",
        "!pip install pydub"
      ]
    },
    {
      "cell_type": "code",
      "execution_count": 3,
      "metadata": {
        "id": "n7zYcoVa2mKR"
      },
      "outputs": [],
      "source": [
        "import numpy as np\n",
        "import os\n",
        "import pickle\n",
        "import random\n",
        "import pandas as pd\n",
        "import sklearn\n",
        "import scipy.io.wavfile as wav\n",
        "from os import path\n",
        "from pydub import AudioSegment\n",
        "from python_speech_features import mfcc\n",
        "from sklearn.metrics import classification_report\n",
        "from collections import defaultdict"
      ]
    },
    {
      "cell_type": "code",
      "execution_count": null,
      "metadata": {
        "colab": {
          "base_uri": "https://localhost:8080/"
        },
        "id": "nY6MNPrX2yWI",
        "outputId": "4d831ff4-3475-494a-e7d6-00cad05ea3cf"
      },
      "outputs": [],
      "source": [
        "# dataset\n",
        "!wget https://github.com/abcom-mltutorials/music-genre/archive/master.zip"
      ]
    },
    {
      "cell_type": "code",
      "execution_count": null,
      "metadata": {
        "colab": {
          "base_uri": "https://localhost:8080/"
        },
        "id": "c-hTJw4O27a1",
        "outputId": "a15cac58-8857-4011-bc0d-79721de178d1"
      },
      "outputs": [],
      "source": [
        "!unzip \"/content/master.zip\""
      ]
    },
    {
      "cell_type": "code",
      "execution_count": 6,
      "metadata": {
        "colab": {
          "base_uri": "https://localhost:8080/"
        },
        "id": "HjdmlPow2-oA",
        "outputId": "89988893-f347-4034-a840-da0f39715095"
      },
      "outputs": [
        {
          "name": "stdout",
          "output_type": "stream",
          "text": [
            "900\n"
          ]
        }
      ],
      "source": [
        "directory = \"/content/music-genre-master/Dataset\"\n",
        "filelist=[]\n",
        "for path, subdirs, files in os.walk(directory):\n",
        "   for file in files:\n",
        "       if (file.endswith('.wav') or file.endswith('.WAV')):\n",
        "           filelist.append(os.path.join(path, file))\n",
        "number_of_files=len(filelist)\n",
        "print(number_of_files)"
      ]
    },
    {
      "cell_type": "code",
      "execution_count": 7,
      "metadata": {
        "id": "gBTXeefX3Aco"
      },
      "outputs": [],
      "source": [
        "def feature_extraction(file):\n",
        " features=[]\n",
        " (sampleRate,data) = wav.read(file)\n",
        " mfcc_feature = mfcc(data,sampleRate,\n",
        "                           winlen=0.020,\n",
        "                           appendEnergy = False)\n",
        " meanMatrix = mfcc_feature.mean(0)\n",
        " for x in meanMatrix:\n",
        "   features.append(x)\n",
        " return features"
      ]
    },
    {
      "cell_type": "code",
      "execution_count": 8,
      "metadata": {
        "id": "Ic6zVACu3Bqp"
      },
      "outputs": [],
      "source": [
        "datasetDirectory = \"/content/music-genre-master/Dataset/\"\n",
        " \n",
        "featureSet=[]\n",
        "i=0\n",
        "for folder in os.listdir(datasetDirectory):\n",
        "   i+=1\n",
        "   if i > 9: # the number of genres is 9\n",
        "       break  \n",
        "   for files in os.listdir(datasetDirectory+folder):\n",
        "     x=datasetDirectory+folder+\"/\"+files\n",
        "     features=feature_extraction(x)\n",
        "     j=0\n",
        "     for x in features:\n",
        "       featureSet.append(x)\n",
        "       j=j+1\n",
        "       if(j%13==0):\n",
        "         featureSet.append(i) "
      ]
    },
    {
      "cell_type": "code",
      "execution_count": 9,
      "metadata": {
        "id": "OChPeltH3GvU"
      },
      "outputs": [],
      "source": [
        "df = pd.DataFrame(columns=['m1','m2','m3','m4','m5','m6','m7',\n",
        "                          'm8','m9','m10','m11','m12','m13','target'])"
      ]
    },
    {
      "cell_type": "code",
      "execution_count": 10,
      "metadata": {
        "id": "pO8ha7Q43H51"
      },
      "outputs": [],
      "source": [
        "i=1\n",
        "n=[]\n",
        "for j in featureSet:\n",
        " n.append(j)\n",
        " #13 features + 1 taget\n",
        " if(i%14==0):\n",
        "   df = df.append({'m1':n[0],'m2':n[1],'m3':n[2],'m4':n[3],'m5':n[4],\n",
        "                   'm6':n[5],'m7':n[6],'m8':n[7],'m9':n[8],'m10':n[9],\n",
        "                   'm11':n[10],'m12':n[11],'m13':n[12],'target':n[13]},\n",
        "                  ignore_index=True)\n",
        "   n=[]\n",
        " i=i+1"
      ]
    },
    {
      "cell_type": "code",
      "execution_count": 11,
      "metadata": {
        "colab": {
          "base_uri": "https://localhost:8080/"
        },
        "id": "JncUHq593Qki",
        "outputId": "6e79046b-b26f-4b21-a8a1-baacf9be16f0"
      },
      "outputs": [
        {
          "data": {
            "text/plain": [
              "(900, 1)"
            ]
          },
          "execution_count": 11,
          "metadata": {},
          "output_type": "execute_result"
        }
      ],
      "source": [
        "x1=df[['m1','m2','m3','m4','m5','m6','m7','m8','m9','m10','m11','m12','m13']]\n",
        "x1.shape\n",
        "\n",
        "Y = df[['target']]\n",
        "Y.shape"
      ]
    },
    {
      "cell_type": "code",
      "execution_count": 12,
      "metadata": {
        "id": "_ghPNypy3R8S"
      },
      "outputs": [],
      "source": [
        "from sklearn.model_selection import train_test_split\n",
        "X_train, X_test, y_train, y_test = train_test_split(x1, Y,\n",
        "                                                   test_size=0.2,\n",
        "                                                   random_state=42)"
      ]
    },
    {
      "cell_type": "code",
      "execution_count": null,
      "metadata": {
        "colab": {
          "base_uri": "https://localhost:8080/"
        },
        "id": "BjNHqdWm3TIc",
        "outputId": "91c80079-f3e9-437a-e842-2ae0a48b483c"
      },
      "outputs": [],
      "source": [
        "from sklearn.linear_model import LogisticRegression\n",
        "clf = LogisticRegression(random_state=0).fit(X_train,y_train)"
      ]
    },
    {
      "cell_type": "markdown",
      "metadata": {
        "id": "9J_Db97-5K04"
      },
      "source": [
        "Ejemplo con wav"
      ]
    },
    {
      "cell_type": "code",
      "execution_count": 14,
      "metadata": {
        "id": "k1uP8Lxr5JLf"
      },
      "outputs": [],
      "source": [
        "audio_file=\"/content/music-genre-master/new_audio_file.wav\"\n",
        "audio_feature=feature_extraction(audio_file)"
      ]
    },
    {
      "cell_type": "code",
      "execution_count": 15,
      "metadata": {
        "colab": {
          "base_uri": "https://localhost:8080/",
          "height": 35
        },
        "id": "EPTHSXY75NUR",
        "outputId": "750e7212-c4b3-4949-867d-74c443ed2728"
      },
      "outputs": [
        {
          "data": {
            "application/vnd.google.colaboratory.intrinsic+json": {
              "type": "string"
            },
            "text/plain": [
              "'rock'"
            ]
          },
          "execution_count": 15,
          "metadata": {},
          "output_type": "execute_result"
        }
      ],
      "source": [
        "from collections import defaultdict\n",
        "results=defaultdict(int)\n",
        "i=1\n",
        "for folder in os.listdir(\"/content/music-genre-master/Dataset/\"):\n",
        "    results[i]=folder\n",
        "    i+=1\n",
        "pred_audio=clf.predict([audio_feature])\n",
        "results[int(pred_audio)]"
      ]
    },
    {
      "cell_type": "code",
      "execution_count": 24,
      "metadata": {
        "colab": {
          "base_uri": "https://localhost:8080/"
        },
        "id": "K64F39oDK7AM",
        "outputId": "14652b65-b50d-430b-8019-6ac0a805efb8"
      },
      "outputs": [
        {
          "data": {
            "text/plain": [
              "defaultdict(int,\n",
              "            {1: 'blues',\n",
              "             2: 'hiphop',\n",
              "             3: 'metal',\n",
              "             4: 'reggae',\n",
              "             5: 'classical',\n",
              "             6: 'country',\n",
              "             7: 'disco',\n",
              "             8: 'rock',\n",
              "             9: 'pop'})"
            ]
          },
          "execution_count": 24,
          "metadata": {},
          "output_type": "execute_result"
        }
      ],
      "source": [
        "results"
      ]
    },
    {
      "cell_type": "markdown",
      "metadata": {
        "id": "Ds7P7d8t3-ps"
      },
      "source": [
        "Ejemplo con mp3"
      ]
    },
    {
      "cell_type": "code",
      "execution_count": null,
      "metadata": {
        "colab": {
          "base_uri": "https://localhost:8080/"
        },
        "id": "b5XKTn_v33Mo",
        "outputId": "d7af10e8-a0db-40fd-9977-24cb1852610f"
      },
      "outputs": [],
      "source": [
        "!wget https://raw.githubusercontent.com/abcom-mltutorials/music/master/bhatiyar.mp3"
      ]
    },
    {
      "cell_type": "code",
      "execution_count": 17,
      "metadata": {
        "id": "XeV9brcp34hL"
      },
      "outputs": [],
      "source": [
        "src = \"/content/bhatiyar.mp3\"\n",
        "dst = \"test.wav\""
      ]
    },
    {
      "cell_type": "code",
      "execution_count": null,
      "metadata": {
        "colab": {
          "base_uri": "https://localhost:8080/"
        },
        "id": "NotdxnRA353h",
        "outputId": "57c103be-083f-40b4-849d-8adec506a0ea"
      },
      "outputs": [],
      "source": [
        "sound = AudioSegment.from_mp3(src)\n",
        "sound.export(dst, format=\"wav\")"
      ]
    },
    {
      "cell_type": "code",
      "execution_count": null,
      "metadata": {
        "colab": {
          "base_uri": "https://localhost:8080/"
        },
        "id": "627smiMP37Ij",
        "outputId": "7e1ba43b-2780-44dc-e7a7-c69a15c961c4"
      },
      "outputs": [],
      "source": [
        "audio_file=\"/content/test.wav\"\n",
        "audio_feature=feature_extraction(audio_file)"
      ]
    },
    {
      "cell_type": "code",
      "execution_count": 20,
      "metadata": {
        "colab": {
          "base_uri": "https://localhost:8080/",
          "height": 35
        },
        "id": "WF9h2VsB38Kb",
        "outputId": "185b8aa9-fa1b-49e7-cece-ed243b3b505a"
      },
      "outputs": [
        {
          "data": {
            "application/vnd.google.colaboratory.intrinsic+json": {
              "type": "string"
            },
            "text/plain": [
              "'reggae'"
            ]
          },
          "execution_count": 20,
          "metadata": {},
          "output_type": "execute_result"
        }
      ],
      "source": [
        "pred_audio=clf.predict([audio_feature])\n",
        "results[int(pred_audio)-2]"
      ]
    },
    {
      "cell_type": "markdown",
      "metadata": {
        "id": "gNcHuGVpKeEc"
      },
      "source": [
        "Obtener modelo"
      ]
    },
    {
      "cell_type": "code",
      "execution_count": 21,
      "metadata": {
        "id": "EWA5M72DKdgT"
      },
      "outputs": [],
      "source": [
        "import joblib"
      ]
    },
    {
      "cell_type": "code",
      "execution_count": null,
      "metadata": {
        "colab": {
          "base_uri": "https://localhost:8080/"
        },
        "id": "X0R9qwPoKmcQ",
        "outputId": "e0735ab4-000b-4e95-e35f-defac3fb4825"
      },
      "outputs": [],
      "source": [
        "joblib.dump(clf, 'music_model.joblib')"
      ]
    },
    {
      "cell_type": "markdown",
      "metadata": {
        "id": "W-grJ9aaiHo1"
      },
      "source": [
        "Créditos a: http://education.abcom.com/music-genre-classification/"
      ]
    }
  ],
  "metadata": {
    "colab": {
      "collapsed_sections": [],
      "name": "music genre prediction.ipynb",
      "provenance": []
    },
    "kernelspec": {
      "display_name": "Python 3",
      "name": "python3"
    },
    "language_info": {
      "name": "python"
    }
  },
  "nbformat": 4,
  "nbformat_minor": 0
}
